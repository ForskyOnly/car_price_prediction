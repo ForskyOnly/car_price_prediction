{
 "cells": [
  {
   "cell_type": "code",
   "execution_count": 1,
   "metadata": {},
   "outputs": [
    {
     "name": "stderr",
     "output_type": "stream",
     "text": [
      "UsageError: unrecognized arguments: #Configure le backend de Matplotlib sur le backend 'inline'\n"
     ]
    }
   ],
   "source": [
    "import pandas as pd\n",
    "import matplotlib.pyplot as plt\n",
    "import seaborn as sns\n",
    "from ydata_profiling import ProfileReport\n",
    "%matplotlib inline #Configure le backend de Matplotlib sur le backend 'inline'"
   ]
  },
  {
   "cell_type": "code",
   "execution_count": 2,
   "metadata": {},
   "outputs": [],
   "source": [
    "df = pd.read_csv(\"cleaned_data.csv\")"
   ]
  },
  {
   "cell_type": "code",
   "execution_count": 3,
   "metadata": {},
   "outputs": [],
   "source": [
    "df = df.drop([\"enginelocation\", \"aspiration\", \"carheight\", \"fueltype\", \"stroke\", \"compressionratio\", \"doornumber\", \"symboling\", \"peakrpm\"], axis=1)"
   ]
  },
  {
   "cell_type": "code",
   "execution_count": 4,
   "metadata": {},
   "outputs": [],
   "source": [
    "df.to_csv(\"cleaned_data.csv\", index=False)"
   ]
  },
  {
   "cell_type": "code",
   "execution_count": 5,
   "metadata": {},
   "outputs": [
    {
     "data": {
      "text/html": [
       "<div>\n",
       "<style scoped>\n",
       "    .dataframe tbody tr th:only-of-type {\n",
       "        vertical-align: middle;\n",
       "    }\n",
       "\n",
       "    .dataframe tbody tr th {\n",
       "        vertical-align: top;\n",
       "    }\n",
       "\n",
       "    .dataframe thead th {\n",
       "        text-align: right;\n",
       "    }\n",
       "</style>\n",
       "<table border=\"1\" class=\"dataframe\">\n",
       "  <thead>\n",
       "    <tr style=\"text-align: right;\">\n",
       "      <th></th>\n",
       "      <th>CarName</th>\n",
       "      <th>carbody</th>\n",
       "      <th>drivewheel</th>\n",
       "      <th>wheelbase</th>\n",
       "      <th>carlength</th>\n",
       "      <th>carwidth</th>\n",
       "      <th>curbweight</th>\n",
       "      <th>enginetype</th>\n",
       "      <th>cylindernumber</th>\n",
       "      <th>enginesize</th>\n",
       "      <th>fuelsystem</th>\n",
       "      <th>boreratio</th>\n",
       "      <th>horsepower</th>\n",
       "      <th>citympg</th>\n",
       "      <th>highwaympg</th>\n",
       "      <th>price</th>\n",
       "      <th>model</th>\n",
       "    </tr>\n",
       "  </thead>\n",
       "  <tbody>\n",
       "    <tr>\n",
       "      <th>0</th>\n",
       "      <td>alfa-romeo</td>\n",
       "      <td>convertible</td>\n",
       "      <td>rwd</td>\n",
       "      <td>225.04</td>\n",
       "      <td>428.75</td>\n",
       "      <td>162.81</td>\n",
       "      <td>1155.75</td>\n",
       "      <td>dohc</td>\n",
       "      <td>4</td>\n",
       "      <td>130</td>\n",
       "      <td>mpfi</td>\n",
       "      <td>3.47</td>\n",
       "      <td>111</td>\n",
       "      <td>21</td>\n",
       "      <td>27</td>\n",
       "      <td>13495.0</td>\n",
       "      <td>giulia</td>\n",
       "    </tr>\n",
       "    <tr>\n",
       "      <th>1</th>\n",
       "      <td>alfa-romeo</td>\n",
       "      <td>convertible</td>\n",
       "      <td>rwd</td>\n",
       "      <td>225.04</td>\n",
       "      <td>428.75</td>\n",
       "      <td>162.81</td>\n",
       "      <td>1155.75</td>\n",
       "      <td>dohc</td>\n",
       "      <td>4</td>\n",
       "      <td>130</td>\n",
       "      <td>mpfi</td>\n",
       "      <td>3.47</td>\n",
       "      <td>111</td>\n",
       "      <td>21</td>\n",
       "      <td>27</td>\n",
       "      <td>16500.0</td>\n",
       "      <td>stelvio</td>\n",
       "    </tr>\n",
       "    <tr>\n",
       "      <th>2</th>\n",
       "      <td>alfa-romeo</td>\n",
       "      <td>hatchback</td>\n",
       "      <td>rwd</td>\n",
       "      <td>240.03</td>\n",
       "      <td>434.85</td>\n",
       "      <td>166.37</td>\n",
       "      <td>1280.49</td>\n",
       "      <td>ohcv</td>\n",
       "      <td>6</td>\n",
       "      <td>152</td>\n",
       "      <td>mpfi</td>\n",
       "      <td>2.68</td>\n",
       "      <td>154</td>\n",
       "      <td>19</td>\n",
       "      <td>26</td>\n",
       "      <td>16500.0</td>\n",
       "      <td>Quadrifoglio</td>\n",
       "    </tr>\n",
       "    <tr>\n",
       "      <th>3</th>\n",
       "      <td>audi</td>\n",
       "      <td>sedan</td>\n",
       "      <td>fwd</td>\n",
       "      <td>253.49</td>\n",
       "      <td>448.56</td>\n",
       "      <td>168.15</td>\n",
       "      <td>1060.05</td>\n",
       "      <td>ohc</td>\n",
       "      <td>4</td>\n",
       "      <td>109</td>\n",
       "      <td>mpfi</td>\n",
       "      <td>3.19</td>\n",
       "      <td>102</td>\n",
       "      <td>24</td>\n",
       "      <td>30</td>\n",
       "      <td>13950.0</td>\n",
       "      <td>100 ls</td>\n",
       "    </tr>\n",
       "    <tr>\n",
       "      <th>4</th>\n",
       "      <td>audi</td>\n",
       "      <td>sedan</td>\n",
       "      <td>4wd</td>\n",
       "      <td>252.48</td>\n",
       "      <td>448.56</td>\n",
       "      <td>168.66</td>\n",
       "      <td>1280.94</td>\n",
       "      <td>ohc</td>\n",
       "      <td>5</td>\n",
       "      <td>136</td>\n",
       "      <td>mpfi</td>\n",
       "      <td>3.19</td>\n",
       "      <td>115</td>\n",
       "      <td>18</td>\n",
       "      <td>22</td>\n",
       "      <td>17450.0</td>\n",
       "      <td>100ls</td>\n",
       "    </tr>\n",
       "    <tr>\n",
       "      <th>...</th>\n",
       "      <td>...</td>\n",
       "      <td>...</td>\n",
       "      <td>...</td>\n",
       "      <td>...</td>\n",
       "      <td>...</td>\n",
       "      <td>...</td>\n",
       "      <td>...</td>\n",
       "      <td>...</td>\n",
       "      <td>...</td>\n",
       "      <td>...</td>\n",
       "      <td>...</td>\n",
       "      <td>...</td>\n",
       "      <td>...</td>\n",
       "      <td>...</td>\n",
       "      <td>...</td>\n",
       "      <td>...</td>\n",
       "      <td>...</td>\n",
       "    </tr>\n",
       "    <tr>\n",
       "      <th>200</th>\n",
       "      <td>volvo</td>\n",
       "      <td>sedan</td>\n",
       "      <td>rwd</td>\n",
       "      <td>277.11</td>\n",
       "      <td>479.55</td>\n",
       "      <td>175.01</td>\n",
       "      <td>1339.00</td>\n",
       "      <td>ohc</td>\n",
       "      <td>4</td>\n",
       "      <td>141</td>\n",
       "      <td>mpfi</td>\n",
       "      <td>3.78</td>\n",
       "      <td>114</td>\n",
       "      <td>23</td>\n",
       "      <td>28</td>\n",
       "      <td>16845.0</td>\n",
       "      <td>145e (sw)</td>\n",
       "    </tr>\n",
       "    <tr>\n",
       "      <th>201</th>\n",
       "      <td>volvo</td>\n",
       "      <td>sedan</td>\n",
       "      <td>rwd</td>\n",
       "      <td>277.11</td>\n",
       "      <td>479.55</td>\n",
       "      <td>174.75</td>\n",
       "      <td>1383.00</td>\n",
       "      <td>ohc</td>\n",
       "      <td>4</td>\n",
       "      <td>141</td>\n",
       "      <td>mpfi</td>\n",
       "      <td>3.78</td>\n",
       "      <td>160</td>\n",
       "      <td>19</td>\n",
       "      <td>25</td>\n",
       "      <td>19045.0</td>\n",
       "      <td>144ea</td>\n",
       "    </tr>\n",
       "    <tr>\n",
       "      <th>202</th>\n",
       "      <td>volvo</td>\n",
       "      <td>sedan</td>\n",
       "      <td>rwd</td>\n",
       "      <td>277.11</td>\n",
       "      <td>479.55</td>\n",
       "      <td>175.01</td>\n",
       "      <td>1366.22</td>\n",
       "      <td>ohcv</td>\n",
       "      <td>6</td>\n",
       "      <td>173</td>\n",
       "      <td>mpfi</td>\n",
       "      <td>3.58</td>\n",
       "      <td>134</td>\n",
       "      <td>18</td>\n",
       "      <td>23</td>\n",
       "      <td>21485.0</td>\n",
       "      <td>244dl</td>\n",
       "    </tr>\n",
       "    <tr>\n",
       "      <th>203</th>\n",
       "      <td>volvo</td>\n",
       "      <td>sedan</td>\n",
       "      <td>rwd</td>\n",
       "      <td>277.11</td>\n",
       "      <td>479.55</td>\n",
       "      <td>175.01</td>\n",
       "      <td>1459.21</td>\n",
       "      <td>ohc</td>\n",
       "      <td>6</td>\n",
       "      <td>145</td>\n",
       "      <td>idi</td>\n",
       "      <td>3.01</td>\n",
       "      <td>106</td>\n",
       "      <td>26</td>\n",
       "      <td>27</td>\n",
       "      <td>22470.0</td>\n",
       "      <td>246</td>\n",
       "    </tr>\n",
       "    <tr>\n",
       "      <th>204</th>\n",
       "      <td>volvo</td>\n",
       "      <td>sedan</td>\n",
       "      <td>rwd</td>\n",
       "      <td>277.11</td>\n",
       "      <td>479.55</td>\n",
       "      <td>175.01</td>\n",
       "      <td>1388.90</td>\n",
       "      <td>ohc</td>\n",
       "      <td>4</td>\n",
       "      <td>141</td>\n",
       "      <td>mpfi</td>\n",
       "      <td>3.78</td>\n",
       "      <td>114</td>\n",
       "      <td>19</td>\n",
       "      <td>25</td>\n",
       "      <td>22625.0</td>\n",
       "      <td>264gl</td>\n",
       "    </tr>\n",
       "  </tbody>\n",
       "</table>\n",
       "<p>205 rows × 17 columns</p>\n",
       "</div>"
      ],
      "text/plain": [
       "        CarName      carbody drivewheel  wheelbase  carlength  carwidth  \\\n",
       "0    alfa-romeo  convertible        rwd     225.04     428.75    162.81   \n",
       "1    alfa-romeo  convertible        rwd     225.04     428.75    162.81   \n",
       "2    alfa-romeo    hatchback        rwd     240.03     434.85    166.37   \n",
       "3          audi        sedan        fwd     253.49     448.56    168.15   \n",
       "4          audi        sedan        4wd     252.48     448.56    168.66   \n",
       "..          ...          ...        ...        ...        ...       ...   \n",
       "200       volvo        sedan        rwd     277.11     479.55    175.01   \n",
       "201       volvo        sedan        rwd     277.11     479.55    174.75   \n",
       "202       volvo        sedan        rwd     277.11     479.55    175.01   \n",
       "203       volvo        sedan        rwd     277.11     479.55    175.01   \n",
       "204       volvo        sedan        rwd     277.11     479.55    175.01   \n",
       "\n",
       "     curbweight enginetype  cylindernumber  enginesize fuelsystem  boreratio  \\\n",
       "0       1155.75       dohc               4         130       mpfi       3.47   \n",
       "1       1155.75       dohc               4         130       mpfi       3.47   \n",
       "2       1280.49       ohcv               6         152       mpfi       2.68   \n",
       "3       1060.05        ohc               4         109       mpfi       3.19   \n",
       "4       1280.94        ohc               5         136       mpfi       3.19   \n",
       "..          ...        ...             ...         ...        ...        ...   \n",
       "200     1339.00        ohc               4         141       mpfi       3.78   \n",
       "201     1383.00        ohc               4         141       mpfi       3.78   \n",
       "202     1366.22       ohcv               6         173       mpfi       3.58   \n",
       "203     1459.21        ohc               6         145        idi       3.01   \n",
       "204     1388.90        ohc               4         141       mpfi       3.78   \n",
       "\n",
       "     horsepower  citympg  highwaympg    price         model  \n",
       "0           111       21          27  13495.0        giulia  \n",
       "1           111       21          27  16500.0       stelvio  \n",
       "2           154       19          26  16500.0  Quadrifoglio  \n",
       "3           102       24          30  13950.0        100 ls  \n",
       "4           115       18          22  17450.0         100ls  \n",
       "..          ...      ...         ...      ...           ...  \n",
       "200         114       23          28  16845.0     145e (sw)  \n",
       "201         160       19          25  19045.0         144ea  \n",
       "202         134       18          23  21485.0         244dl  \n",
       "203         106       26          27  22470.0           246  \n",
       "204         114       19          25  22625.0         264gl  \n",
       "\n",
       "[205 rows x 17 columns]"
      ]
     },
     "execution_count": 5,
     "metadata": {},
     "output_type": "execute_result"
    }
   ],
   "source": [
    "df"
   ]
  },
  {
   "cell_type": "code",
   "execution_count": 6,
   "metadata": {},
   "outputs": [],
   "source": [
    "profile = ProfileReport(df, title=\"Profiling Report\")"
   ]
  },
  {
   "cell_type": "code",
   "execution_count": 7,
   "metadata": {},
   "outputs": [
    {
     "data": {
      "application/vnd.jupyter.widget-view+json": {
       "model_id": "6fb79d7ef7344a11b9b2a514d34dd390",
       "version_major": 2,
       "version_minor": 0
      },
      "text/plain": [
       "Summarize dataset:   0%|          | 0/5 [00:00<?, ?it/s]"
      ]
     },
     "metadata": {},
     "output_type": "display_data"
    },
    {
     "data": {
      "application/vnd.jupyter.widget-view+json": {
       "model_id": "fbc0140f2cb1445786bf0edef263672e",
       "version_major": 2,
       "version_minor": 0
      },
      "text/plain": [
       "Generate report structure:   0%|          | 0/1 [00:00<?, ?it/s]"
      ]
     },
     "metadata": {},
     "output_type": "display_data"
    },
    {
     "data": {
      "application/vnd.jupyter.widget-view+json": {
       "model_id": "02e01899e4ff4c3d91875b2f761b7785",
       "version_major": 2,
       "version_minor": 0
      },
      "text/plain": [
       "Render widgets:   0%|          | 0/1 [00:00<?, ?it/s]"
      ]
     },
     "metadata": {},
     "output_type": "display_data"
    },
    {
     "data": {
      "application/vnd.jupyter.widget-view+json": {
       "model_id": "a75f354678f04e51996176d43d6fa247",
       "version_major": 2,
       "version_minor": 0
      },
      "text/plain": [
       "VBox(children=(Tab(children=(Tab(children=(GridBox(children=(VBox(children=(GridspecLayout(children=(HTML(valu…"
      ]
     },
     "metadata": {},
     "output_type": "display_data"
    }
   ],
   "source": [
    "profile.to_widgets()"
   ]
  },
  {
   "cell_type": "code",
   "execution_count": 8,
   "metadata": {},
   "outputs": [
    {
     "name": "stdout",
     "output_type": "stream",
     "text": [
      "price             1.000000\n",
      "enginesize        0.874145\n",
      "curbweight        0.835305\n",
      "horsepower        0.808139\n",
      "carwidth          0.759250\n",
      "cylindernumber    0.718305\n",
      "carlength         0.682922\n",
      "wheelbase         0.577796\n",
      "boreratio         0.553173\n",
      "citympg          -0.685751\n",
      "highwaympg       -0.697599\n",
      "Name: price, dtype: float64\n"
     ]
    },
    {
     "name": "stderr",
     "output_type": "stream",
     "text": [
      "/tmp/ipykernel_187600/129322031.py:1: FutureWarning: The default value of numeric_only in DataFrame.corr is deprecated. In a future version, it will default to False. Select only valid columns or specify the value of numeric_only to silence this warning.\n",
      "  cor = df.corr()\n"
     ]
    }
   ],
   "source": [
    "cor = df.corr()\n",
    "print(cor['price'].sort_values(ascending=False))"
   ]
  },
  {
   "cell_type": "code",
   "execution_count": 9,
   "metadata": {},
   "outputs": [
    {
     "name": "stderr",
     "output_type": "stream",
     "text": [
      "/tmp/ipykernel_187600/3923616435.py:3: UserWarning: Matplotlib is currently using module://matplotlib_inline.backend_inline, which is a non-GUI backend, so cannot show the figure.\n",
      "  plt.show()\n"
     ]
    }
   ],
   "source": [
    "plt.figure(figsize=(20, 8))\n",
    "sns.heatmap(cor, cmap='YlGnBu', annot=True)\n",
    "plt.show()"
   ]
  },
  {
   "cell_type": "code",
   "execution_count": 10,
   "metadata": {},
   "outputs": [
    {
     "data": {
      "text/plain": [
       "<AxesSubplot: xlabel='price', ylabel='CarName'>"
      ]
     },
     "execution_count": 10,
     "metadata": {},
     "output_type": "execute_result"
    }
   ],
   "source": [
    "fig, axes = plt.subplots(1, 4, figsize=(20, 5))\n",
    "\n",
    "sns.boxplot(y='enginesize', x='price', data=df, ax=axes[0])\n",
    "sns.boxplot(y='curbweight', x='price', data=df, ax=axes[1])\n",
    "sns.boxplot(y='horsepower', x='price', data=df, ax=axes[2])\n",
    "sns.boxplot(y='CarName', x='price', data=df, ax=axes[3])"
   ]
  },
  {
   "cell_type": "code",
   "execution_count": 11,
   "metadata": {},
   "outputs": [],
   "source": [
    "# fig, axes = plt.subplots(1, 4, figsize=(20, 5))\n",
    "# sns.boxplot(y='carwidth', x='price', data=df, ax=axes[0])\n",
    "# sns.boxplot(y='cylindernumber', x='price', data=df, ax=axes[1])\n",
    "# sns.boxplot(y='carlength', x='price', data=df, ax=axes[2])\n",
    "# sns.boxplot(y='drivewheel', x='price', data=df, ax=axes[3])"
   ]
  },
  {
   "attachments": {},
   "cell_type": "markdown",
   "metadata": {},
   "source": [
    "\n",
    "\n",
    "wheelbase         0.577796\n",
    "boreratio         0.553173\n",
    "citympg          -0.685751\n",
    "highwaympg       -0.697599"
   ]
  },
  {
   "cell_type": "code",
   "execution_count": 12,
   "metadata": {},
   "outputs": [
    {
     "data": {
      "text/plain": [
       "<AxesSubplot: xlabel='price', ylabel='enginetype'>"
      ]
     },
     "execution_count": 12,
     "metadata": {},
     "output_type": "execute_result"
    }
   ],
   "source": [
    "fig, axes = plt.subplots(1, 4, figsize=(20, 5))\n",
    "sns.boxplot(y='fuelsystem', x='price', data=df, ax=axes[0])\n",
    "sns.boxplot(y='wheelbase', x='price', data=df, ax=axes[1])\n",
    "sns.boxplot(y='boreratio', x='price', data=df, ax=axes[2])\n",
    "sns.boxplot(y='enginetype', x='price', data=df, ax=axes[3])"
   ]
  },
  {
   "cell_type": "code",
   "execution_count": 13,
   "metadata": {},
   "outputs": [
    {
     "data": {
      "text/plain": [
       "<AxesSubplot: xlabel='price', ylabel='highwaympg'>"
      ]
     },
     "execution_count": 13,
     "metadata": {},
     "output_type": "execute_result"
    }
   ],
   "source": [
    "fig, axes = plt.subplots(1, 3, figsize=(20, 5))\n",
    "sns.boxplot(y='carbody', x='price', data=df, ax=axes[0])\n",
    "sns.boxplot(y='citympg', x='price', data=df, ax=axes[1])\n",
    "sns.boxplot(y='highwaympg', x='price', data=df, ax=axes[2])"
   ]
  }
 ],
 "metadata": {
  "kernelspec": {
   "display_name": "machinlearn",
   "language": "python",
   "name": "python3"
  },
  "language_info": {
   "codemirror_mode": {
    "name": "ipython",
    "version": 3
   },
   "file_extension": ".py",
   "mimetype": "text/x-python",
   "name": "python",
   "nbconvert_exporter": "python",
   "pygments_lexer": "ipython3",
   "version": "3.10.9"
  },
  "orig_nbformat": 4
 },
 "nbformat": 4,
 "nbformat_minor": 2
}
